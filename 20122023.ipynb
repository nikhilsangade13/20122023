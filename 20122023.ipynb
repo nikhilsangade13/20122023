{
 "cells": [
  {
   "cell_type": "code",
   "execution_count": 2,
   "id": "9cdd1936",
   "metadata": {},
   "outputs": [
    {
     "name": "stdout",
     "output_type": "stream",
     "text": [
      "*\n",
      "**\n",
      "***\n",
      "****\n",
      "*****\n"
     ]
    }
   ],
   "source": [
    "for i in range(1,6):\n",
    "    print('*'*i)"
   ]
  },
  {
   "cell_type": "code",
   "execution_count": 3,
   "id": "cc806ba0",
   "metadata": {},
   "outputs": [
    {
     "name": "stdout",
     "output_type": "stream",
     "text": [
      "**\n",
      "****\n",
      "******\n",
      "********\n",
      "**********\n"
     ]
    }
   ],
   "source": [
    "for i in range(2,11,2):\n",
    "    print('*'*i)"
   ]
  },
  {
   "cell_type": "code",
   "execution_count": 6,
   "id": "54fb6ad1",
   "metadata": {},
   "outputs": [
    {
     "name": "stdout",
     "output_type": "stream",
     "text": [
      "*****\n",
      "****\n",
      "***\n",
      "**\n",
      "*\n"
     ]
    }
   ],
   "source": [
    "for i in range(5,0,-1):\n",
    "    print('*'*i)"
   ]
  },
  {
   "cell_type": "code",
   "execution_count": 14,
   "id": "d4abb709",
   "metadata": {},
   "outputs": [
    {
     "name": "stdout",
     "output_type": "stream",
     "text": [
      "00 01 02 03 04 05 \n",
      "10 11 12 13 14 15 \n",
      "20 21 22 23 24 25 \n",
      "30 31 32 33 34 35 \n",
      "40 41 42 43 44 45 \n",
      "50 51 52 53 54 55 \n"
     ]
    }
   ],
   "source": [
    "for i in range(6):\n",
    "    for j in range(6):\n",
    "        print(i,j,sep='',end=' ')\n",
    "    print()\n",
    "    "
   ]
  },
  {
   "cell_type": "code",
   "execution_count": 21,
   "id": "a0ad400b",
   "metadata": {},
   "outputs": [
    {
     "name": "stdout",
     "output_type": "stream",
     "text": [
      "A \n",
      "A B \n",
      "A B C \n",
      "A B C D \n",
      "A B C D E \n"
     ]
    }
   ],
   "source": [
    "for i in range(1,6):\n",
    "    for j in range (0,i):\n",
    "        print (chr(65+j),end=\" \")\n",
    "    print()"
   ]
  },
  {
   "cell_type": "code",
   "execution_count": 24,
   "id": "f3d0f87e",
   "metadata": {},
   "outputs": [
    {
     "name": "stdout",
     "output_type": "stream",
     "text": [
      "10\n",
      "9\n",
      "8\n",
      "7\n",
      "6\n",
      "5\n",
      "4\n",
      "3\n",
      "2\n",
      "1\n"
     ]
    }
   ],
   "source": [
    "num=10\n",
    "while num>0:\n",
    "    print(num)\n",
    "    num-=1"
   ]
  },
  {
   "cell_type": "code",
   "execution_count": 29,
   "id": "4cccbb36",
   "metadata": {},
   "outputs": [
    {
     "name": "stdout",
     "output_type": "stream",
     "text": [
      "1\n",
      "2\n",
      "3\n",
      "4\n",
      "5\n",
      "6\n",
      "7\n",
      "8\n",
      "9\n",
      "10\n"
     ]
    }
   ],
   "source": [
    "num=1\n",
    "while num>0 and num<11:\n",
    "    print(num)\n",
    "    num+=1"
   ]
  },
  {
   "cell_type": "code",
   "execution_count": 32,
   "id": "a4041d26",
   "metadata": {},
   "outputs": [
    {
     "name": "stdout",
     "output_type": "stream",
     "text": [
      "100\n",
      "200\n",
      "300\n",
      "400\n",
      "500\n"
     ]
    }
   ],
   "source": [
    "k=[100, 200, 300, 400, 500]\n",
    "i=len(k)\n",
    "m=0\n",
    "while m<i:\n",
    "    print(k[m])\n",
    "    m+=1"
   ]
  },
  {
   "cell_type": "code",
   "execution_count": 34,
   "id": "66b4bfb2",
   "metadata": {},
   "outputs": [
    {
     "name": "stdout",
     "output_type": "stream",
     "text": [
      "2 Python\n",
      "4 Python\n",
      "6 Python\n",
      "8 Python\n",
      "10 Python\n",
      "12 Python\n",
      "14 Python\n",
      "16 Python\n",
      "18 Python\n",
      "20 Python\n"
     ]
    }
   ],
   "source": [
    "p=2\n",
    "while p<21:\n",
    "    print(p, \"Python\")\n",
    "    p+=2\n"
   ]
  },
  {
   "cell_type": "code",
   "execution_count": 36,
   "id": "89500325",
   "metadata": {},
   "outputs": [
    {
     "name": "stdout",
     "output_type": "stream",
     "text": [
      "p is presnt at index 0\n",
      "y is presnt at index 1\n",
      "t is presnt at index 2\n",
      "h is presnt at index 3\n",
      "o is presnt at index 4\n",
      "n is presnt at index 5\n"
     ]
    }
   ],
   "source": [
    "k ='python'\n",
    "l=0\n",
    "while l<len(k):\n",
    "    print(k[l], \"is presnt at index\", l)\n",
    "    l+=1"
   ]
  },
  {
   "cell_type": "code",
   "execution_count": 41,
   "id": "8352e108",
   "metadata": {},
   "outputs": [
    {
     "name": "stdout",
     "output_type": "stream",
     "text": [
      "2\n",
      "3\n"
     ]
    }
   ],
   "source": [
    "h= [2,3,1,4,5,6,1,8,9,0,1]\n",
    "for i in h:\n",
    "    if i==1:\n",
    "        break\n",
    "    else:\n",
    "        print(i)"
   ]
  },
  {
   "cell_type": "code",
   "execution_count": 43,
   "id": "419d820d",
   "metadata": {},
   "outputs": [
    {
     "name": "stdout",
     "output_type": "stream",
     "text": [
      "2\n",
      "3\n",
      "4\n",
      "5\n",
      "6\n",
      "8\n",
      "9\n",
      "0\n"
     ]
    }
   ],
   "source": [
    "s= [2,3,1,4,5,6,1,8,9,0,1]\n",
    "for i in s:\n",
    "    if i==1:\n",
    "        continue\n",
    "    else:\n",
    "        print(i)"
   ]
  },
  {
   "cell_type": "code",
   "execution_count": 57,
   "id": "d1db64de",
   "metadata": {},
   "outputs": [
    {
     "name": "stdout",
     "output_type": "stream",
     "text": [
      "[(0, 40), (1, 50), (2, 60), (3, 70), (4, 80)]\n",
      "0 40\n",
      "1 50\n",
      "2 60\n",
      "3 70\n",
      "4 80\n"
     ]
    }
   ],
   "source": [
    "a=[40,50,60,70,80]\n",
    "print(list(enumerate(a)))\n",
    "i=0\n",
    "while i<len(a):\n",
    "    m,n=(i, a[i])\n",
    "    print(m,n)\n",
    "    i+=1"
   ]
  },
  {
   "cell_type": "code",
   "execution_count": null,
   "id": "88cb0afd",
   "metadata": {},
   "outputs": [],
   "source": []
  },
  {
   "cell_type": "code",
   "execution_count": null,
   "id": "d3a414bf",
   "metadata": {},
   "outputs": [],
   "source": []
  }
 ],
 "metadata": {
  "kernelspec": {
   "display_name": "Python 3 (ipykernel)",
   "language": "python",
   "name": "python3"
  },
  "language_info": {
   "codemirror_mode": {
    "name": "ipython",
    "version": 3
   },
   "file_extension": ".py",
   "mimetype": "text/x-python",
   "name": "python",
   "nbconvert_exporter": "python",
   "pygments_lexer": "ipython3",
   "version": "3.11.5"
  }
 },
 "nbformat": 4,
 "nbformat_minor": 5
}
